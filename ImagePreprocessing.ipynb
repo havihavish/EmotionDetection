{
  "nbformat": 4,
  "nbformat_minor": 0,
  "metadata": {
    "colab": {
      "name": "ImagePreprocessing.ipynb",
      "version": "0.3.2",
      "provenance": [],
      "include_colab_link": true
    },
    "kernelspec": {
      "name": "python3",
      "display_name": "Python 3"
    }
  },
  "cells": [
    {
      "cell_type": "markdown",
      "metadata": {
        "id": "view-in-github",
        "colab_type": "text"
      },
      "source": [
        "<a href=\"https://colab.research.google.com/github/havihavish/EmotionDetection/blob/master/ImagePreprocessing.ipynb\" target=\"_parent\"><img src=\"https://colab.research.google.com/assets/colab-badge.svg\" alt=\"Open In Colab\"/></a>"
      ]
    },
    {
      "metadata": {
        "id": "k7JCTvGfMMJ1",
        "colab_type": "code",
        "colab": {}
      },
      "cell_type": "code",
      "source": [
        "import cv2\n",
        "import os\n",
        "from os import listdir\n",
        "import inspect\n",
        "from os.path import isfile, join"
      ],
      "execution_count": 0,
      "outputs": []
    },
    {
      "metadata": {
        "id": "XwloQ5vW4kJI",
        "colab_type": "text"
      },
      "cell_type": "markdown",
      "source": [
        "Converting the video into frames "
      ]
    },
    {
      "metadata": {
        "id": "4fL5UrGAYoUs",
        "colab_type": "code",
        "colab": {}
      },
      "cell_type": "code",
      "source": [
        "def video_to_frames(video, emotion, file_index,video_number):\n",
        "    # extract frames from a video and save to directory as 'x.png' where \n",
        "    # x is the frame index\n",
        "    vidcap = cv2.VideoCapture(video)\n",
        "    totalimages = 0\n",
        "    imageReactionStartNumber = 10\n",
        "    while vidcap.isOpened():\n",
        "        success, image = vidcap.read()\n",
        "        index = file_index\n",
        "        if success:\n",
        "            if ((index - 31*video_number) /imageReactionStartNumber >1):\n",
        "                filepath = os.path.dirname(os.path.abspath(inspect.getfile(inspect.currentframe())))\n",
        "                filepath = join(filepath,'drive/My Drive/KDEF')\n",
        "                filepath = filepath + '/' + str(emotion) + '/' + str(file_index) + '.png'\n",
        "                print(filepath)\n",
        "                cv2.imwrite(filepath, image)\n",
        "            file_index+=1\n",
        "            totalimages+=1\n",
        "        else:\n",
        "            \n",
        "            break\n",
        "    cv2.destroyAllWindows()\n",
        "    vidcap.release()\n",
        "    return totalimages"
      ],
      "execution_count": 0,
      "outputs": []
    },
    {
      "metadata": {
        "id": "3QB62Nqr4W7h",
        "colab_type": "text"
      },
      "cell_type": "markdown",
      "source": [
        "Name of the emotion directories "
      ]
    },
    {
      "metadata": {
        "id": "LSCM3KI_YvTb",
        "colab_type": "code",
        "colab": {}
      },
      "cell_type": "code",
      "source": [
        "dirs = [ '1_Neutral-Happiness','2_Neutral-Anger', '4_Neutral-Sadness', '3_Neutral-Fear','5_Neutral-Disgust','6_Neutral-Surprise' ]"
      ],
      "execution_count": 0,
      "outputs": []
    },
    {
      "metadata": {
        "id": "I2mmSl9L4lh_",
        "colab_type": "text"
      },
      "cell_type": "markdown",
      "source": [
        "Passing individual video to parser function"
      ]
    },
    {
      "metadata": {
        "id": "YK1SoBC_Yx6T",
        "colab_type": "code",
        "colab": {}
      },
      "cell_type": "code",
      "source": [
        "emotion =0\n",
        "file_index =0\n",
        "\n",
        "for f in dirs:\n",
        "     f = join('/content/drive/My Drive/KDEF',f)\n",
        "     onlyfiles = [join(f, file) for file in listdir(f)]\n",
        "     video_number = 0\n",
        "     path = join('/content/drive/My Drive/KDEF',str(emotion)) \n",
        "     os.makedirs(path, exist_ok=True) \n",
        "     for file in onlyfiles:\n",
        "          rcount = video_to_frames(file, emotion, file_index,video_number)\n",
        "          file_index+=rcount\n",
        "          video_number += 1\n",
        "     emotion+=1\n",
        "     file_index=0"
      ],
      "execution_count": 0,
      "outputs": []
    }
  ]
}